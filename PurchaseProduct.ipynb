{
 "cells": [
  {
   "cell_type": "markdown",
   "id": "8852ff4a",
   "metadata": {},
   "source": [
    "# Read Inventory\n"
   ]
  },
  {
   "cell_type": "code",
   "execution_count": 15,
   "id": "5542531c",
   "metadata": {},
   "outputs": [],
   "source": [
    "import json\n",
    "\n",
    "fd = open(\"records.json\",'r')\n",
    "r = fd.read()\n",
    "fd.close()\n",
    "\n",
    "\n",
    "records = json.loads(r)"
   ]
  },
  {
   "cell_type": "markdown",
   "id": "6e3c3bb0",
   "metadata": {},
   "source": [
    "# Product List"
   ]
  },
  {
   "cell_type": "code",
   "execution_count": 37,
   "id": "aca3253d",
   "metadata": {},
   "outputs": [
    {
     "name": "stdout",
     "output_type": "stream",
     "text": [
      "Products in Inventory with their ID's:-\n",
      "\n",
      "| ID: 110001 \tQuantity: 100 \tPrice: 10 \tProduct: Kitkat\n",
      "| ID: 110002 \tQuantity: 100 \tPrice: 30 \tProduct: Oreo\n",
      "| ID: 110003 \tQuantity: 100 \tPrice: 10 \tProduct: Soap\n",
      "| ID: 110004 \tQuantity: 100 \tPrice: 10 \tProduct: Bourbon\n",
      "| ID: 110005 \tQuantity: 100 \tPrice: 10 \tProduct: Pen\n",
      "| ID: 110006 \tQuantity: 100 \tPrice: 5 \tProduct: Pencil\n",
      "| ID: 110007 \tQuantity: 87 \tPrice: 5 \tProduct: Eraser\n",
      "| ID: 110008 \tQuantity: 100 \tPrice: 20 \tProduct: Copy\n",
      "| ID: 110009 \tQuantity: 100 \tPrice: 10 \tProduct: Dairy Milk\n",
      "| ID: 110010 \tQuantity: 100 \tPrice: 20 \tProduct: Good Day\n",
      "| ID: 110011 \tQuantity: 100 \tPrice: 30 \tProduct: Drinks\n",
      "| ID: 110012 \tQuantity: 100 \tPrice: 10 \tProduct: Lays\n",
      "| ID: 110013 \tQuantity: 100 \tPrice: 10 \tProduct: Parle-G\n",
      "| ID: 110014 \tQuantity: 100 \tPrice: 25 \tProduct: Milk Packet\n",
      "| ID: 110015 \tQuantity: 95 \tPrice: 50 \tProduct: Scissors\n",
      "| ID: 110016 \tQuantity: 100 \tPrice: 1000 \tProduct: Bag\n",
      "| ID: 110017 \tQuantity: 100 \tPrice: 30 \tProduct: Mask\n",
      "| ID: 110018 \tQuantity: 100 \tPrice: 50 \tProduct: Sanitizer\n",
      "| ID: 110019 \tQuantity: 100 \tPrice: 100 \tProduct: Towel\n",
      "| ID: 110020 \tQuantity: 100 \tPrice: 100 \tProduct: Book\n",
      "| ID: 110021 \tQuantity: 100 \tPrice: 100 \tProduct: Sugar Packet\n",
      "| ID: 110022 \tQuantity: 100 \tPrice: 15000 \tProduct: Mobile\n",
      "| ID: 110023 \tQuantity: 90 \tPrice: 500 \tProduct: Charger\n",
      "| ID: 110024 \tQuantity: 100 \tPrice: 150 \tProduct: Water Bottle\n",
      "| ID: 110025 \tQuantity: 100 \tPrice: 600 \tProduct: Earphones\n",
      "| ID: 110026 \tQuantity: 100 \tPrice: 80 \tProduct: Shampoo Bottle\n",
      "| ID: 110027 \tQuantity: 80 \tPrice: 60 \tProduct: Face Wash\n",
      "| ID: 110028 \tQuantity: 75 \tPrice: 600 \tProduct: USB\n",
      "| ID: 110029 \tQuantity: 60 \tPrice: 10 \tProduct: Scale\n",
      "| ID: 110030 \tQuantity: 100 \tPrice: 12 \tProduct: Battery\n",
      "| ID: 110031 \tQuantity: 80 \tPrice: 600 \tProduct: Watch\n",
      "| ID: 110032 \tQuantity: 90 \tPrice: 60 \tProduct: Hankerchief\n",
      "| ID: 110033 \tQuantity: 65 \tPrice: 30 \tProduct: NoteBook\n",
      "\n",
      "\n"
     ]
    }
   ],
   "source": [
    "print(\"Products in Inventory with their ID's:-\\n\")\n",
    "for prod_id in records:\n",
    "    print(\"| ID:\",prod_id,'\\tQuantity:',records[prod_id]['Quantity'],'\\tPrice:',records[prod_id]['Price'],'\\tProduct:',records[prod_id]['Product name'],)\n",
    "print('\\n')"
   ]
  },
  {
   "cell_type": "markdown",
   "id": "88895619",
   "metadata": {},
   "source": [
    "# Purchase\n"
   ]
  },
  {
   "cell_type": "code",
   "execution_count": 27,
   "id": "3df094e2",
   "metadata": {},
   "outputs": [
    {
     "name": "stdout",
     "output_type": "stream",
     "text": [
      "Press 1 to buy | 0 to create bill :- 1\n",
      "Enter the Product ID: 110023\n",
      "--------------------------------------------------\n",
      "Product Name:-  Charger\n",
      "Product Price :- Rs. 500\n",
      "Available Quantity :- 100\n",
      "Enter the quantity: 10\n",
      "Total cost is : Rs. 5000\n",
      "-------------------------------------------------\n",
      "Press 1 to buy | 0 to create bill :- 0\n",
      "Enter your name - Asta\n",
      "Enter your number - 987654\n",
      "\n",
      "BILL :-\n",
      "---------------------------------\n",
      "Asta | 987654\n",
      "Products purachased :-\n",
      "Charger - 10\n",
      "Billing Amount : Rs. 5000.0\n",
      "---------------------------------\n"
     ]
    }
   ],
   "source": [
    "finalCost = 0\n",
    "finalList = {}\n",
    "while(1):\n",
    "    \n",
    "    choice = input(\"Press 1 to buy | 0 to create bill :- \")\n",
    "    \n",
    "    if(choice == '1'):\n",
    "        ui_prodID = input(\"Enter the Product ID: \")\n",
    "        \n",
    "        print(\"--------------------------------------------------\")\n",
    "        print(\"Product Name:- \",records[ui_prodID]['Product name'])\n",
    "        print(\"Product Price :- Rs.\",records[ui_prodID]['Price'])\n",
    "        print(\"Available Quantity :-\",records[ui_prodID]['Quantity'])\n",
    "\n",
    "        ui_quantity = int(input(\"Enter the quantity: \"))\n",
    "\n",
    "        if( ui_quantity <= records[ui_prodID]['Quantity'] ):\n",
    "            totalCost = records[ui_prodID]['Price'] * ui_quantity\n",
    "            records[ui_prodID]['Quantity'] = records[ui_prodID]['Quantity'] - ui_quantity\n",
    "            \n",
    "            \n",
    "            finalCost += totalCost\n",
    "            finalCost = float(f'{finalCost:.2f}')\n",
    "            finalList[records[ui_prodID]['Product name']] = ui_quantity\n",
    "            print(\"Total cost is : Rs.\",totalCost)\n",
    "            print(\"-------------------------------------------------\")\n",
    "    \n",
    "        else:\n",
    "            print(\"Sorry! the available quantity of the product is:\",records[ui_prodID]['Quantity'])\n",
    "            \n",
    "            \n",
    "    elif(choice == '0'):\n",
    "        totalCost = 0\n",
    "        customerName = input(\"Enter your name - \")\n",
    "        phone = input(\"Enter your number - \")\n",
    "        print(\"\\nBILL :-\")\n",
    "        print(\"---------------------------------\")\n",
    "        print(customerName,\"|\",phone)\n",
    "        print(\"Products purachased :-\")\n",
    "        for i in finalList:\n",
    "            print(i,\"-\",finalList[i])\n",
    "        print('Billing Amount : Rs.',finalCost)\n",
    "        print(\"---------------------------------\")\n",
    "        break\n",
    "        \n",
    "    else:\n",
    "        print(\"Enter a valid choice!\")"
   ]
  },
  {
   "cell_type": "markdown",
   "id": "204019d4",
   "metadata": {},
   "source": [
    "# Update Inventory After Purchase"
   ]
  },
  {
   "cell_type": "code",
   "execution_count": 28,
   "id": "4c66efde",
   "metadata": {},
   "outputs": [],
   "source": [
    "js = json.dumps(records)\n",
    "\n",
    "fd = open(\"record.json\",'w')\n",
    "fd.write(js)\n",
    "fd.close()"
   ]
  },
  {
   "cell_type": "markdown",
   "id": "cd75c712",
   "metadata": {},
   "source": [
    "# Sales\n"
   ]
  },
  {
   "cell_type": "code",
   "execution_count": 23,
   "id": "9433487f",
   "metadata": {},
   "outputs": [],
   "source": [
    "#Loads the data from Sales.json\n",
    "fd = open(\"Sales.json\",\"r\")\n",
    "txt1 = fd.read()\n",
    "fd.close()\n",
    "saleList = json.loads(txt1)"
   ]
  },
  {
   "cell_type": "code",
   "execution_count": 28,
   "id": "be6abb6e",
   "metadata": {},
   "outputs": [],
   "source": [
    "import time\n",
    "\n",
    "date = time.ctime(time.time())\n",
    "saleList[date] = {'cName':customerName,'contact':phone,'sales':finalCost}"
   ]
  },
  {
   "cell_type": "code",
   "execution_count": 29,
   "id": "73e46dcd",
   "metadata": {},
   "outputs": [
    {
     "name": "stdout",
     "output_type": "stream",
     "text": [
      "Customer: Preyansh | Contact: 666666 | Sale : 250.0 Rs. on Mon Sep  6 15:11:54 2021\n",
      "Customer: RAJ | Contact: 999999 | Sale : 250.0 Rs. on Mon Sep  6 15:17:23 2021\n",
      "Customer: Naruto | Contact: 112344 | Sale : 65.0 Rs. on Mon Sep  6 15:19:04 2021\n",
      "Customer: Asta | Contact: 987654 | Sale : 5000.0 Rs. on Mon Sep  6 15:20:23 2021\n"
     ]
    }
   ],
   "source": [
    "for i in saleList:\n",
    "    print(\"Customer:\",saleList[i]['cName'],\"| Contact:\",saleList[i]['contact'],\"| Sale :\",saleList[i]['sales'],\"Rs. on\",i)"
   ]
  },
  {
   "cell_type": "code",
   "execution_count": 30,
   "id": "29b731ff",
   "metadata": {},
   "outputs": [],
   "source": [
    "# Stores the sales to Sales.json\n",
    "sales = json.dumps(saleList)\n",
    "fd = open(\"Sales.json\",\"w\")\n",
    "fd.write(sales)\n",
    "fd.close()"
   ]
  },
  {
   "cell_type": "code",
   "execution_count": null,
   "id": "f8004efa",
   "metadata": {},
   "outputs": [],
   "source": []
  }
 ],
 "metadata": {
  "kernelspec": {
   "display_name": "Python 3",
   "language": "python",
   "name": "python3"
  },
  "language_info": {
   "codemirror_mode": {
    "name": "ipython",
    "version": 3
   },
   "file_extension": ".py",
   "mimetype": "text/x-python",
   "name": "python",
   "nbconvert_exporter": "python",
   "pygments_lexer": "ipython3",
   "version": "3.8.8"
  }
 },
 "nbformat": 4,
 "nbformat_minor": 5
}
