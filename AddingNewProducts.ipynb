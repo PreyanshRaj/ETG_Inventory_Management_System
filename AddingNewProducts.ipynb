{
 "cells": [
  {
   "cell_type": "markdown",
   "id": "6f2163a3",
   "metadata": {},
   "source": [
    "# Read Data From JSON"
   ]
  },
  {
   "cell_type": "code",
   "execution_count": 2,
   "id": "6b141dfc",
   "metadata": {},
   "outputs": [],
   "source": [
    "import json\n",
    "fd = open(\"records.json\",'r')\n",
    "r = fd.read()\n",
    "fd.close()\n",
    "\n",
    "records = json.loads(r)"
   ]
  },
  {
   "cell_type": "markdown",
   "id": "8873ba17",
   "metadata": {},
   "source": [
    "# Get Records"
   ]
  },
  {
   "cell_type": "code",
   "execution_count": 3,
   "id": "a27c5a1c",
   "metadata": {},
   "outputs": [
    {
     "name": "stdout",
     "output_type": "stream",
     "text": [
      "Products in Inventory with their ID's:-\n",
      "\n",
      "| ID: 110001 \tQuantity: 100 \tProduct: Kitkat\n",
      "| ID: 110002 \tQuantity: 100 \tProduct: Oreo\n",
      "| ID: 110003 \tQuantity: 100 \tProduct: Soap\n",
      "| ID: 110004 \tQuantity: 100 \tProduct: Bourbon\n",
      "| ID: 110005 \tQuantity: 100 \tProduct: Pen\n",
      "| ID: 110006 \tQuantity: 100 \tProduct: Pencil\n",
      "| ID: 110007 \tQuantity: 100 \tProduct: Eraser\n",
      "| ID: 110008 \tQuantity: 100 \tProduct: Copy\n",
      "| ID: 110009 \tQuantity: 100 \tProduct: Dairy Milk\n",
      "| ID: 110010 \tQuantity: 100 \tProduct: Good Day\n",
      "| ID: 110011 \tQuantity: 100 \tProduct: Drinks\n",
      "| ID: 110012 \tQuantity: 100 \tProduct: Lays\n",
      "| ID: 110013 \tQuantity: 100 \tProduct: Parle-G\n",
      "| ID: 110014 \tQuantity: 100 \tProduct: Milk Packet\n",
      "| ID: 110015 \tQuantity: 100 \tProduct: Scissors\n",
      "| ID: 110016 \tQuantity: 100 \tProduct: Bag\n",
      "| ID: 110017 \tQuantity: 100 \tProduct: Mask\n",
      "| ID: 110018 \tQuantity: 100 \tProduct: Sanitizer\n",
      "| ID: 110019 \tQuantity: 100 \tProduct: Towel\n",
      "| ID: 110020 \tQuantity: 100 \tProduct: Book\n",
      "| ID: 110021 \tQuantity: 100 \tProduct: Sugar Packet\n",
      "| ID: 110022 \tQuantity: 100 \tProduct: Mobile\n",
      "| ID: 110023 \tQuantity: 100 \tProduct: Charger\n",
      "| ID: 110024 \tQuantity: 100 \tProduct: Water Bottle\n",
      "| ID: 110025 \tQuantity: 100 \tProduct: Earphones\n",
      "| ID: 110026 \tQuantity: 100 \tProduct: Shampoo Bottle\n",
      "| ID: 110027 \tQuantity: 80 \tProduct: Face Wash\n",
      "| ID: 110028 \tQuantity: 75 \tProduct: USB\n",
      "| ID: 110029 \tQuantity: 60 \tProduct: Scale\n",
      "| ID: 110030 \tQuantity: 100 \tProduct: Battery\n",
      "| ID: 110031 \tQuantity: 80 \tProduct: Watch\n",
      "| ID: 110032 \tQuantity: 90 \tProduct: Hankerchief\n",
      "| ID: 110033 \tQuantity: 65 \tProduct: NoteBook\n",
      "\n",
      "\n"
     ]
    }
   ],
   "source": [
    "print(\"Products in Inventory with their ID's:-\\n\")\n",
    "for prod_id in records:\n",
    "    print(\"| ID:\",prod_id,'\\tQuantity:',records[prod_id]['Quantity'],'\\tProduct:',records[prod_id]['Product name'],)\n",
    "print('\\n')"
   ]
  },
  {
   "cell_type": "markdown",
   "id": "ee70e019",
   "metadata": {},
   "source": [
    "# Add New Item Into Inventory"
   ]
  },
  {
   "cell_type": "code",
   "execution_count": 95,
   "id": "6fe07f0c",
   "metadata": {},
   "outputs": [
    {
     "name": "stdout",
     "output_type": "stream",
     "text": [
      "Enter 1 to add 0 to exit \n",
      "1\n",
      "---------------------------------------------------\n",
      "Enter Product id:110033\n",
      "Enter Product name:NoteBook\n",
      "Enter Price:30\n",
      "Enter Quantity:65\n",
      "Enter 1 to add 0 to exit \n",
      "0\n",
      "---------------------------------------------------\n"
     ]
    }
   ],
   "source": [
    "while(1):\n",
    "    ch = input(\"Enter 1 to add 0 to exit \\n\")\n",
    "    print(\"---------------------------------------------------\")\n",
    "\n",
    "    if(ch == '1'):\n",
    "        prod_id = str(input(\"Enter Product id:\"))\n",
    "        name = str(input(\"Enter Product name:\"))\n",
    "        pr = int(input(\"Enter Price:\"))\n",
    "        qn = int(input(\"Enter Quantity:\"))\n",
    "        records[prod_id] = {'Product name': name, 'Price': pr, 'Quantity': qn}\n",
    "    elif(ch == '0'):\n",
    "        break\n",
    "    else:\n",
    "        print(\"Enter valid choice!\")\n",
    "\n",
    "\n",
    "\n",
    "js = json.dumps(records)\n",
    "\n",
    "fd = open(\"records.json\",'w')\n",
    "fd.write(js)\n",
    "fd.close()"
   ]
  },
  {
   "cell_type": "code",
   "execution_count": null,
   "id": "66c64a00",
   "metadata": {},
   "outputs": [],
   "source": []
  }
 ],
 "metadata": {
  "kernelspec": {
   "display_name": "Python 3",
   "language": "python",
   "name": "python3"
  },
  "language_info": {
   "codemirror_mode": {
    "name": "ipython",
    "version": 3
   },
   "file_extension": ".py",
   "mimetype": "text/x-python",
   "name": "python",
   "nbconvert_exporter": "python",
   "pygments_lexer": "ipython3",
   "version": "3.8.8"
  }
 },
 "nbformat": 4,
 "nbformat_minor": 5
}
